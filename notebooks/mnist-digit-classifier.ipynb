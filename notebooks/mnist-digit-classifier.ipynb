{
 "cells": [
  {
   "cell_type": "code",
   "execution_count": 2,
   "metadata": {},
   "outputs": [],
   "source": [
    "from fastai.vision.all import *\n"
   ]
  },
  {
   "cell_type": "code",
   "execution_count": 3,
   "metadata": {},
   "outputs": [
    {
     "data": {
      "text/html": [
       "\n",
       "<style>\n",
       "    /* Turns off some styling */\n",
       "    progress {\n",
       "        /* gets rid of default border in Firefox and Opera. */\n",
       "        border: none;\n",
       "        /* Needs to be in here for Safari polyfill so background images work as expected. */\n",
       "        background-size: auto;\n",
       "    }\n",
       "    progress:not([value]), progress:not([value])::-webkit-progress-bar {\n",
       "        background: repeating-linear-gradient(45deg, #7e7e7e, #7e7e7e 10px, #5c5c5c 10px, #5c5c5c 20px);\n",
       "    }\n",
       "    .progress-bar-interrupted, .progress-bar-interrupted::-webkit-progress-bar {\n",
       "        background: #F44336;\n",
       "    }\n",
       "</style>\n"
      ],
      "text/plain": [
       "<IPython.core.display.HTML object>"
      ]
     },
     "metadata": {},
     "output_type": "display_data"
    },
    {
     "data": {
      "text/html": [
       "\n",
       "    <div>\n",
       "      <progress value='3219456' class='' max='3214948' style='width:300px; height:20px; vertical-align: middle;'></progress>\n",
       "      100.14% [3219456/3214948 00:05&lt;00:00]\n",
       "    </div>\n",
       "    "
      ],
      "text/plain": [
       "<IPython.core.display.HTML object>"
      ]
     },
     "metadata": {},
     "output_type": "display_data"
    }
   ],
   "source": [
    "path=untar_data(URLs.MNIST_SAMPLE)"
   ]
  },
  {
   "cell_type": "code",
   "execution_count": 6,
   "metadata": {},
   "outputs": [
    {
     "data": {
      "text/plain": [
       "(#3) [Path('C:/Users/aliko/.fastai/data/mnist_sample/labels.csv'),Path('C:/Users/aliko/.fastai/data/mnist_sample/train'),Path('C:/Users/aliko/.fastai/data/mnist_sample/valid')]"
      ]
     },
     "execution_count": 6,
     "metadata": {},
     "output_type": "execute_result"
    }
   ],
   "source": [
    "path\n",
    "path.ls()"
   ]
  },
  {
   "cell_type": "code",
   "execution_count": 7,
   "metadata": {},
   "outputs": [
    {
     "data": {
      "text/plain": [
       "(#2) [Path('C:/Users/aliko/.fastai/data/mnist_sample/train/3'),Path('C:/Users/aliko/.fastai/data/mnist_sample/train/7')]"
      ]
     },
     "execution_count": 7,
     "metadata": {},
     "output_type": "execute_result"
    }
   ],
   "source": [
    "(path/'train').ls()"
   ]
  },
  {
   "cell_type": "code",
   "execution_count": 15,
   "metadata": {},
   "outputs": [
    {
     "data": {
      "text/plain": [
       "(#6131) [Path('C:/Users/aliko/.fastai/data/mnist_sample/train/3/10.png'),Path('C:/Users/aliko/.fastai/data/mnist_sample/train/3/10000.png'),Path('C:/Users/aliko/.fastai/data/mnist_sample/train/3/10011.png'),Path('C:/Users/aliko/.fastai/data/mnist_sample/train/3/10031.png'),Path('C:/Users/aliko/.fastai/data/mnist_sample/train/3/10034.png'),Path('C:/Users/aliko/.fastai/data/mnist_sample/train/3/10042.png'),Path('C:/Users/aliko/.fastai/data/mnist_sample/train/3/10052.png'),Path('C:/Users/aliko/.fastai/data/mnist_sample/train/3/1007.png'),Path('C:/Users/aliko/.fastai/data/mnist_sample/train/3/10074.png'),Path('C:/Users/aliko/.fastai/data/mnist_sample/train/3/10091.png'),Path('C:/Users/aliko/.fastai/data/mnist_sample/train/3/10093.png'),Path('C:/Users/aliko/.fastai/data/mnist_sample/train/3/10097.png'),Path('C:/Users/aliko/.fastai/data/mnist_sample/train/3/10099.png'),Path('C:/Users/aliko/.fastai/data/mnist_sample/train/3/10116.png'),Path('C:/Users/aliko/.fastai/data/mnist_sample/train/3/10125.png'),Path('C:/Users/aliko/.fastai/data/mnist_sample/train/3/10137.png'),Path('C:/Users/aliko/.fastai/data/mnist_sample/train/3/10141.png'),Path('C:/Users/aliko/.fastai/data/mnist_sample/train/3/10144.png'),Path('C:/Users/aliko/.fastai/data/mnist_sample/train/3/10155.png'),Path('C:/Users/aliko/.fastai/data/mnist_sample/train/3/10161.png')...]"
      ]
     },
     "execution_count": 15,
     "metadata": {},
     "output_type": "execute_result"
    }
   ],
   "source": [
    "threes=(path/'train'/'3').ls().sorted()\n",
    "sevens=(path/'train'/'7').ls().sorted()\n",
    "threes"
   ]
  },
  {
   "cell_type": "code",
   "execution_count": 16,
   "metadata": {},
   "outputs": [
    {
     "data": {
      "image/jpeg": "[encoded data removed]",
      "image/png": "[encoded data removed]",
      "text/plain": [
       "<PIL.PngImagePlugin.PngImageFile image mode=L size=28x28>"
      ]
     },
     "execution_count": 16,
     "metadata": {},
     "output_type": "execute_result"
    }
   ],
   "source": [
    "im3_path=threes[1]\n",
    "im3=Image.open(im3_path)\n",
    "im3"
   ]
  },
  {
   "cell_type": "code",
   "execution_count": null,
   "metadata": {},
   "outputs": [],
   "source": []
  }
 ],
 "metadata": {
  "kernelspec": {
   "display_name": "Python (deepLearning310)",
   "language": "python",
   "name": "deeplearning310"
  },
  "language_info": {
   "codemirror_mode": {
    "name": "ipython",
    "version": 3
   },
   "file_extension": ".py",
   "mimetype": "text/x-python",
   "name": "python",
   "nbconvert_exporter": "python",
   "pygments_lexer": "ipython3",
   "version": "3.10.0"
  }
 },
 "nbformat": 4,
 "nbformat_minor": 2
}
